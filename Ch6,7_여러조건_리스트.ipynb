{
  "nbformat": 4,
  "nbformat_minor": 0,
  "metadata": {
    "colab": {
      "name": "Ch6,7_여러조건_리스트.ipynb",
      "provenance": [],
      "private_outputs": true,
      "collapsed_sections": [],
      "authorship_tag": "ABX9TyPrESkbYUG1NtYp0uHG7ij2",
      "include_colab_link": true
    },
    "kernelspec": {
      "name": "python3",
      "display_name": "Python 3"
    }
  },
  "cells": [
    {
      "cell_type": "markdown",
      "metadata": {
        "id": "view-in-github",
        "colab_type": "text"
      },
      "source": [
        "<a href=\"https://colab.research.google.com/github/Kim-Hyunjo/test1/blob/branch2/Ch6%2C7_%EC%97%AC%EB%9F%AC%EC%A1%B0%EA%B1%B4_%EB%A6%AC%EC%8A%A4%ED%8A%B8.ipynb\" target=\"_parent\"><img src=\"https://colab.research.google.com/assets/colab-badge.svg\" alt=\"Open In Colab\"/></a>"
      ]
    },
    {
      "cell_type": "markdown",
      "metadata": {
        "id": "5FrABtH9IVQZ",
        "colab_type": "text"
      },
      "source": [
        "<h1>6장. 여러조건 다루기 - 심화 조건문</h1>\n",
        "<h2>6.1. 중첩 조건문</h2>\n",
        "\n",
        "* 중첩 조건문을 이용하면 앞의 알고리즘을 보완할 수 있다."
      ]
    },
    {
      "cell_type": "code",
      "metadata": {
        "id": "9HoRJXB9Uzcn",
        "colab_type": "code",
        "colab": {}
      },
      "source": [
        "#[예제 6-1]\n",
        "id = 'admin'\n",
        "pw = '1234'\n",
        "if len(id) > 10:\n",
        "    print(\"회원가입 실패: id 길이\")\n",
        "else:\n",
        "    if len(pw) > 10:\n",
        "        print(\"회원가입 실패: pw 길이\")\n",
        "    else:\n",
        "        print(\"회원가입 성공\")"
      ],
      "execution_count": null,
      "outputs": []
    },
    {
      "cell_type": "code",
      "metadata": {
        "id": "sVsSY-3xVtuA",
        "colab_type": "code",
        "colab": {}
      },
      "source": [
        "#[예제 6-2]\n",
        "id = 'abc'\n",
        "pw = '123'\n",
        "input_id = input(\"id 입력: \")\n",
        "input_pw = input(\"pw 입력: \")\n",
        "if id != input_id:\n",
        "    print(\"로그인 실패: id 오류\")\n",
        "elif pw != input_pw:\n",
        "    print(\"로그인 실패: pw 오류\")\n",
        "else:\n",
        "    print(\"로그인 성공\")"
      ],
      "execution_count": null,
      "outputs": []
    },
    {
      "cell_type": "code",
      "metadata": {
        "id": "Wf9JfI-EWaV0",
        "colab_type": "code",
        "colab": {}
      },
      "source": [
        "#[실습 6-1]\n",
        "num1 = int(input())\n",
        "num2 = int(input())\n",
        "if (num1 > 0 and num2 < 0) or (num1 < 0 and num2 > 0):\n",
        "    print(\"음수\")\n",
        "else:\n",
        "    print(\"양수\")"
      ],
      "execution_count": null,
      "outputs": []
    },
    {
      "cell_type": "code",
      "metadata": {
        "id": "G1aAh9JSZp8P",
        "colab_type": "code",
        "colab": {}
      },
      "source": [
        "#[퀴즈 6-1]\n",
        "if 조건1:\n",
        "    if 조건2: \n",
        "        Statement1\n",
        "    else:\n",
        "        Statement2\n",
        "else:<br>\n",
        "    False_statements\n",
        "Next_statements"
      ],
      "execution_count": null,
      "outputs": []
    },
    {
      "cell_type": "code",
      "metadata": {
        "id": "j8t2xi3DZvQz",
        "colab_type": "code",
        "colab": {}
      },
      "source": [
        "#[퀴즈 6-2]\n",
        "if age >= 10:\n",
        "    if age < 20:\n",
        "        print('student')\n",
        "    else:\n",
        "        print('adult')\n",
        "else:\n",
        "    print('kid')"
      ],
      "execution_count": null,
      "outputs": []
    },
    {
      "cell_type": "markdown",
      "metadata": {
        "id": "KVwuf529aDpd",
        "colab_type": "text"
      },
      "source": [
        "<h2>6.2. if-elif-else 조건문</h2>\n",
        "\n",
        "* 여러 개의 조건문을 이용한 중첩 조건문을 사용하여 더 복잡한 상황에 맞게 사용할 수 있다\n",
        "* 중첩 조건문은 크게 두 가지로 if 문의 조건식이 True 일 때 또 다른 if 문이\n",
        "들어가는 경우와 if 문의 조건식이 False 일 때 else 뒤에 또 다른 if 문이 들어가는 경우이다.\n",
        "* If elif else 문은 실행 시간이 짧아진다는 장점이 있지만 , 가독성이 낮아지는 단점이 있다"
      ]
    },
    {
      "cell_type": "code",
      "metadata": {
        "id": "1YwMgXU7aUwi",
        "colab_type": "code",
        "colab": {}
      },
      "source": [
        "#[실습 6-2]\n",
        "total = int(input())\n",
        "if total > 100:\n",
        "    print('Error')\n",
        "elif total >= 90:\n",
        "    print('A')\n",
        "elif total >= 80:\n",
        "    print('B')\n",
        "elif total >= 70:\n",
        "    print('C')\n",
        "else:\n",
        "    print('D')"
      ],
      "execution_count": null,
      "outputs": []
    },
    {
      "cell_type": "code",
      "metadata": {
        "id": "TAIO_InAaybD",
        "colab_type": "code",
        "colab": {}
      },
      "source": [
        "#[예제 6-3]\n",
        "age = int(input())\n",
        "if age >= 20:\n",
        "    print('you are an adult')\n",
        "elif age >= 10 and age < 20:\n",
        "    print('you are an adolescent')\n",
        "elif age < 10 and age >= 0:\n",
        "    print('you are a baby')\n",
        "else age < 0:\n",
        "    print('Error')"
      ],
      "execution_count": null,
      "outputs": []
    },
    {
      "cell_type": "code",
      "metadata": {
        "id": "KlhFGHH8bQaJ",
        "colab_type": "code",
        "colab": {}
      },
      "source": [
        "#[예제 6-4]\n",
        "ch = int(input())\n",
        "if ch == 5:\n",
        "    print('SBS')\n",
        "elif ch == 7:\n",
        "    print('KBS')\n",
        "elif ch == 11:\n",
        "    print('MBC')\n",
        "elif ch == 13:\n",
        "    print('EBS')\n",
        "else:\n",
        "    print('try again')"
      ],
      "execution_count": null,
      "outputs": []
    },
    {
      "cell_type": "code",
      "metadata": {
        "id": "onCUCRIGblLf",
        "colab_type": "code",
        "colab": {}
      },
      "source": [
        "#[실습 6-3]\n",
        "eng = int(input())\n",
        "math = int(input())\n",
        "\n",
        "if eng+math < 110:\n",
        "    print('불합격: 총합점수')\n",
        "else:\n",
        "    if eng >= 40:\n",
        "        if math >= 40:\n",
        "            print('합격')\n",
        "        else:\n",
        "            print('불합격: 수학점수')\n",
        "    else:\n",
        "        print('불합격: 영어점수')\n",
        "\n",
        "    "
      ],
      "execution_count": null,
      "outputs": []
    },
    {
      "cell_type": "code",
      "metadata": {
        "id": "r_s2j_UCeVxD",
        "colab_type": "code",
        "colab": {}
      },
      "source": [
        "#[퀴즈 6-3]\n",
        "age = int(input())\n",
        "if age < 20:\n",
        "    if age >= 10:\n",
        "        print('student')\n",
        "    else: \n",
        "        print('kid')\n",
        "else:\n",
        "    print('adult')\n"
      ],
      "execution_count": null,
      "outputs": []
    },
    {
      "cell_type": "markdown",
      "metadata": {
        "id": "48uYAmURfS0Y",
        "colab_type": "text"
      },
      "source": [
        "<h3> [연습문제] </h3>\n",
        "1. C<br>\n",
        "2. 중첩 조건문/단순 나열 조건문"
      ]
    },
    {
      "cell_type": "code",
      "metadata": {
        "id": "bt4yuQxogA5I",
        "colab_type": "code",
        "colab": {}
      },
      "source": [
        "#3\n",
        "x = 52.1\n",
        "if x <= 51 or x > 55:\n",
        "    print('sorry')\n",
        "else:\n",
        "    if x <= 52:\n",
        "        print('9')\n",
        "    elif x <= 53:\n",
        "        print('10')\n",
        "    elif x <= 54:\n",
        "        print('11')\n",
        "    elif x <= 55:\n",
        "        print('12')"
      ],
      "execution_count": null,
      "outputs": []
    },
    {
      "cell_type": "code",
      "metadata": {
        "id": "MbUBS1AhgvBd",
        "colab_type": "code",
        "colab": {}
      },
      "source": [
        "#4\n",
        "sym = int(input())\n",
        "num1 = int(input())\n",
        "num2 = int(input())\n",
        "\n",
        "if sym == 1:\n",
        "    print(num1 + num2)\n",
        "elif sym == 2:\n",
        "         print(num1 - num2)\n",
        "elif sym == 3:\n",
        "    print(num1 * num2)\n",
        " elif sym == 4:\n",
        "    print(num1 / num2)\n",
        "else:\n",
        "    print('Error')"
      ],
      "execution_count": null,
      "outputs": []
    },
    {
      "cell_type": "code",
      "metadata": {
        "id": "ORJQfH2Ghb6P",
        "colab_type": "code",
        "colab": {}
      },
      "source": [
        "#5\n",
        "year = int(input())\n",
        "a = year % 4\n",
        "b = year % 10\n",
        "c = year % 400\n",
        "check = False\n",
        "if c == 0:\n",
        "    check = True\n",
        "else:\n",
        "    if a == 0:\n",
        "        if b == 0:\n",
        "            check = False\n",
        "        else:\n",
        "            check = True\n",
        "    elif b == 0:\n",
        "        check = True\n",
        "if check == True:\n",
        "    print('윤년')\n",
        "else:\n",
        "    print('윤년이 아니다')\n",
        "\n"
      ],
      "execution_count": null,
      "outputs": []
    },
    {
      "cell_type": "code",
      "metadata": {
        "id": "SRkH_Iakiq8G",
        "colab_type": "code",
        "colab": {}
      },
      "source": [
        "#6\n",
        "h = int(input())\n",
        "w = int(input())\n",
        "BMI = w / h ** 2\n",
        "if BMI < 20 :\n",
        "    print('저체중')\n",
        "else:\n",
        "    if BMI <= 24:\n",
        "        print('정상')\n",
        "    elif BMI <= 30:\n",
        "        print('경도비만')\n",
        "    else:\n",
        "        print('비만')"
      ],
      "execution_count": null,
      "outputs": []
    },
    {
      "cell_type": "code",
      "metadata": {
        "id": "0U142QpjkjbX",
        "colab_type": "code",
        "colab": {}
      },
      "source": [
        "#7\n",
        "name = input()\n",
        "s = int(input())\n",
        "p = 0\n",
        "if s == 1:\n",
        "    p = 9000\n",
        "elif s == 2:\n",
        "    p = 6500\n",
        "elif s == 3:\n",
        "    p = 4000\n",
        "elif s == 4:\n",
        "    p = 3000\n",
        "elif s == 5:\n",
        "    p = 1000\n",
        "else:\n",
        "    print('Error')\n",
        "if p != 0 :\n",
        "    print(p)"
      ],
      "execution_count": null,
      "outputs": []
    },
    {
      "cell_type": "code",
      "metadata": {
        "id": "l2o3d45SrUC3",
        "colab_type": "code",
        "colab": {}
      },
      "source": [
        "#8\n",
        "h = int(input())\n",
        "if h <= 140:\n",
        "    print('6급')\n",
        "elif h > 140 and h <= 145:\n",
        "    print('5급')\n",
        "elif h > 145 and h <= 158:\n",
        "    print('4급')\n",
        "else:\n",
        "    print('현역')"
      ],
      "execution_count": null,
      "outputs": []
    },
    {
      "cell_type": "code",
      "metadata": {
        "id": "VP1zruzwrrWL",
        "colab_type": "code",
        "colab": {}
      },
      "source": [
        "#9\n",
        "h = int(input())\n",
        "w = int(input())\n",
        "bmi = w/h**2\n",
        "if bmi >= 20 and bmi <= 24.9:\n",
        "    print(1)\n",
        "elif bmi <= 19.9 and bmi >=18.5:\n",
        "    print(2)\n",
        "elif (bmi <18.4 and bmi >= 18) or (bmi >= 30 and bmi <= 34.9):\n",
        "    print(3)\n",
        "else:\n",
        "    print(4)"
      ],
      "execution_count": null,
      "outputs": []
    },
    {
      "cell_type": "code",
      "metadata": {
        "id": "SC45v3fwPIbh",
        "colab_type": "code",
        "colab": {}
      },
      "source": [
        "#10\n",
        "gen = input()\n",
        "age = int(input())\n",
        "if gen == '여':\n",
        "    if age >= 20:\n",
        "        print('2배')\n",
        "    elif age >= 30:\n",
        "        print('3배')\n",
        "    else:\n",
        "        print('1.5배')\n",
        "else:\n",
        "    print('2배')"
      ],
      "execution_count": null,
      "outputs": []
    },
    {
      "cell_type": "code",
      "metadata": {
        "id": "wRi8ZiXcPlto",
        "colab_type": "code",
        "colab": {}
      },
      "source": [
        "#11\n",
        "num1 = int(input())\n",
        "num2 = int(input())\n",
        "if num1 >= num2:\n",
        "    if num1 % 2 == 0:\n",
        "        print('num1이 큰 수, 짝수')\n",
        "    else:\n",
        "        print('num1 큰수 홀수')\n",
        "else:\n",
        "    if num2 % 2 == 0:\n",
        "        print('num2 큰수 짝수')\n",
        "    else:\n",
        "        print('num2 큰수 홀수')"
      ],
      "execution_count": null,
      "outputs": []
    },
    {
      "cell_type": "code",
      "metadata": {
        "id": "fswsnnm0QaLM",
        "colab_type": "code",
        "colab": {}
      },
      "source": [
        "#12\n",
        "num1,num2,num3 = map(int, input().split())\n",
        "if num1+num2 <= num3:\n",
        "    print('삼각형 아님')\n",
        "else:\n",
        "    if num1 == num2:\n",
        "        if num2 == num3:\n",
        "            print('정삼각형')\n",
        "        else:\n",
        "            print('이등변 삼각형')\n",
        "    elif num1**2+num2**2==num3**2:\n",
        "        print('직각삼각형')\n",
        "    else:\n",
        "        print('삼각형')"
      ],
      "execution_count": null,
      "outputs": []
    },
    {
      "cell_type": "markdown",
      "metadata": {
        "id": "eiyImcDBRQG1",
        "colab_type": "text"
      },
      "source": [
        "13. 들여쓰기가 되어있지 않음"
      ]
    },
    {
      "cell_type": "code",
      "metadata": {
        "id": "zeg5sE_8RXlG",
        "colab_type": "code",
        "colab": {}
      },
      "source": [
        "#14\n",
        "sem = int(input())\n",
        "hak = int(input())\n",
        "if sem > 8:\n",
        "    print('장학금 없음')\n",
        "else:\n",
        "    if hak >= 4.0:\n",
        "        print('전액 장학금')\n",
        "    elif hak >= 3.5:\n",
        "        print('반액 장학금')\n",
        "    elif hak >= 3.0:\n",
        "        print('30% 장학금')\n",
        "    else:\n",
        "        print('장학금 없음')"
      ],
      "execution_count": null,
      "outputs": []
    },
    {
      "cell_type": "code",
      "metadata": {
        "id": "2uvcHLbhSH5U",
        "colab_type": "code",
        "colab": {}
      },
      "source": [
        "#15\n",
        "hour = int(input())\n",
        "min = int(input())\n",
        "check = False\n",
        "if hour == 9:\n",
        "    if min > 30:\n",
        "        check = True\n",
        "elif hour > 9:\n",
        "    check = True\n",
        "if check:\n",
        "    print('지각')\n",
        "else:\n",
        "    print('정시 출근')"
      ],
      "execution_count": null,
      "outputs": []
    },
    {
      "cell_type": "code",
      "metadata": {
        "id": "AG21f2bvS8dM",
        "colab_type": "code",
        "colab": {}
      },
      "source": [
        "#16\n",
        "num1,num2,num3 = map(int, input().split())\n",
        "max = 0\n",
        "if num1 == num2:\n",
        "    max = num1\n",
        "    if num1 >= num3:\n",
        "        max = num1\n",
        "    else:\n",
        "        max = num3\n",
        "else:\n",
        "    max = num2\n",
        "    if num2 >= num3:\n",
        "        max = num2\n",
        "    else:\n",
        "        max = num3\n",
        "print(max)"
      ],
      "execution_count": null,
      "outputs": []
    },
    {
      "cell_type": "code",
      "metadata": {
        "id": "pbX3Y6TSTX1D",
        "colab_type": "code",
        "colab": {}
      },
      "source": [
        "#17\n",
        "num1,num2 = map(int, input().split())\n",
        "sum = num1 + num2\n",
        "if sum % 2 == 0:\n",
        "    if sum % 3 == 0:\n",
        "        print('짝수, 3의 배수')\n",
        "    else:\n",
        "        print('짝수, 3의 배수 아님')\n",
        "else:\n",
        "    if sum % 3 == 0:\n",
        "        print('홀수, 3의 배수')\n",
        "    else:\n",
        "        print('홀수, 3의 배수 아님')"
      ],
      "execution_count": null,
      "outputs": []
    },
    {
      "cell_type": "code",
      "metadata": {
        "id": "J3nLYSVKUHFb",
        "colab_type": "code",
        "colab": {}
      },
      "source": [
        "#18\n",
        "num1,num2 = map(int, input().split())\n",
        "if num1 == 7:\n",
        "    if num2 == 3:\n",
        "        print('둘다 정답')\n",
        "    else:\n",
        "        print('행운의 숫자만 정답')\n",
        "else:\n",
        "    if num2 == 3:\n",
        "        print('한국인이 좋아하는 숫자만 정답')\n",
        "    else:\n",
        "        print('둘다 오답')"
      ],
      "execution_count": null,
      "outputs": []
    },
    {
      "cell_type": "code",
      "metadata": {
        "id": "Uge2_wyxUlJ4",
        "colab_type": "code",
        "colab": {}
      },
      "source": [
        "#19\n",
        "str = input()\n",
        "if str == 'I love you':\n",
        "    print('영어')\n",
        "elif str == 'Ti amo':\n",
        "    print('이탈리아어')\n",
        "elif str == 'Aishiteru':\n",
        "    print('일본어')\n",
        "elif str == 'Te qiero':\n",
        "    print('스페인어')\n",
        "elif str == 'Ich liebe dich :':\n",
        "    print('독일어')"
      ],
      "execution_count": null,
      "outputs": []
    },
    {
      "cell_type": "code",
      "metadata": {
        "id": "5YTw0NXiVEu0",
        "colab_type": "code",
        "colab": {}
      },
      "source": [
        "#20\n",
        "import sys\n",
        "num1,num2,num3 = map(int,input().split())\n",
        "min = sys.maxint\n",
        "if num1 >= num2:\n",
        "    min = num2\n",
        "    if num2 >= num3:\n",
        "        min = num3\n",
        "else:\n",
        "    min = num1\n",
        "    if num1 >= num3:\n",
        "        min = num3\n"
      ],
      "execution_count": null,
      "outputs": []
    },
    {
      "cell_type": "code",
      "metadata": {
        "id": "odWh7Z1_Vw3o",
        "colab_type": "code",
        "colab": {}
      },
      "source": [
        "#21\n",
        "num1,num2,num3 = map(int,input().split())\n",
        "sum = num1 + num2 + num3\n",
        "if sum % 2 == 0:\n",
        "    print(max(num1,num2,num3))\n",
        "else:\n",
        "    print(sum)"
      ],
      "execution_count": null,
      "outputs": []
    },
    {
      "cell_type": "code",
      "metadata": {
        "id": "1c5sDKeAV_-N",
        "colab_type": "code",
        "colab": {}
      },
      "source": [
        "#22\n",
        "x1,y1 = map(int,input().split())\n",
        "x2,y2 = map(int,input().split())\n",
        "x = x1; y = y1\n",
        "if x1 <= x2:\n",
        "    x = x2 - x1\n",
        "    if y1 <= y2:\n",
        "        y = y2 - y1\n",
        "    else:\n",
        "        y = y1 - y2\n",
        "else:\n",
        "    x = x1 - x2\n",
        "    if y1 <= y2:\n",
        "        y = y2 - y1\n",
        "    else:\n",
        "        y = y1 - y2\n",
        "d = (x**2 + y**2) ** 0.5\n",
        "print(d)\n",
        "\n"
      ],
      "execution_count": null,
      "outputs": []
    },
    {
      "cell_type": "code",
      "metadata": {
        "id": "doE2kNIOW3gm",
        "colab_type": "code",
        "colab": {}
      },
      "source": [
        "#23\n",
        "left = 45\n",
        "co = '프랑스'\n",
        "discount = 0\n",
        "\n",
        "if left == 30:\n",
        "    if co == '영국' or co == '프랑스' or co == '독일' or co == '그리스':\n",
        "        discount = 0.03\n",
        "elif left == 45:\n",
        "    if co == '영국' or co == '프랑스' or co == '독일' or co == '그리스':\n",
        "        discount = 0.05\n",
        "print(670000*(1-discount))\n",
        "\n"
      ],
      "execution_count": null,
      "outputs": []
    },
    {
      "cell_type": "markdown",
      "metadata": {
        "id": "lNJXW2Br4-D3",
        "colab_type": "text"
      },
      "source": [
        "<h1>7장. 구성이 다른 자료- list</h1>\n",
        "<h2>7.1. list형</h2>\n",
        "\n",
        "* 기호: []\n",
        "* 선언 방법: list_name = [...]\n",
        "* 구성요소: 어떠한 type도 가능(심지어 다른 list도 구성요소가 될 수 있다.\n",
        "\n",
        "<h2>7.2. list의 index</h2>\n",
        "\n",
        "* 0번째 요소부터 시작\n",
        "* list_name[index]: list에서 index에 해당하는 element 값을 반환한다.\n",
        "* index는 음수도 가능하다.(but list의 길이를 넘어설 수 없다.)\n",
        "    ex) a = [1,2,3,4] ==> a[-1] = 4\n",
        "* index도 연산이 가능하다(단, 나눗셈 연산자는 사용 불가능하다)\n",
        "* element in or not in list:\n",
        "    해당 element가 list내에 있는지 알 수 있다.\n",
        "* len(list_name): list의 element개수를 int type으로 반환한다."
      ]
    },
    {
      "cell_type": "code",
      "metadata": {
        "id": "uhdoUrn56gfE",
        "colab_type": "code",
        "colab": {}
      },
      "source": [
        "#[실습 7-1]\n",
        "list1 = ['maintenance', 'test', 'issue','safety','plan']\n",
        "if 'maintenance' in list1 and len(list1) >= 5:\n",
        "    print('possible')\n",
        "else:\n",
        "    print('impossible')"
      ],
      "execution_count": null,
      "outputs": []
    },
    {
      "cell_type": "markdown",
      "metadata": {
        "id": "0FGXdX-b7a-m",
        "colab_type": "text"
      },
      "source": [
        "[퀴즈 7-1]\n",
        "\n",
        "6/False/True/True"
      ]
    },
    {
      "cell_type": "markdown",
      "metadata": {
        "id": "FGES_EoT7n9D",
        "colab_type": "text"
      },
      "source": [
        "<h2>7.3. list형의 연산</h2>\n",
        "\n",
        "* list_name1 + list_name2: 여러개의 list를 하나의 list로 병합하는 연산\n",
        "* list_name * number: 주어진 숫자만큼 list를 반복하는 연산\n",
        "* list slice:\n",
        "    * list_name[idx1:idx2]\n",
        "    * list_name[:]\n",
        "    * list_name[:idx2]\n",
        "    * list_name[idx1:]\n",
        "* list형 원소 변경:\n",
        "    * list_name[idx] = new_element\n"
      ]
    },
    {
      "cell_type": "code",
      "metadata": {
        "id": "aStX1mJ_8AgL",
        "colab_type": "code",
        "colab": {}
      },
      "source": [
        "#[퀴즈 7-2]\n",
        "list_odd = [1,3,5,7,9]\n",
        "list_even = [2,4,6,8,10]\n",
        "print(list_odd[-3]) #5\n",
        "print(list_even[1+3]) #10\n",
        "print(list_odd + list_even)\n",
        "print(list_odd * 2)"
      ],
      "execution_count": null,
      "outputs": []
    },
    {
      "cell_type": "markdown",
      "metadata": {
        "id": "Lu9BVUIz8uy6",
        "colab_type": "text"
      },
      "source": [
        "[퀴즈 7-3]\n",
        "\n",
        "O / X / O / 0 / X"
      ]
    },
    {
      "cell_type": "code",
      "metadata": {
        "id": "LRqyKnkd9LoG",
        "colab_type": "code",
        "colab": {}
      },
      "source": [
        "#[실습 7-2]\n",
        "spell_re = ['r,','e']\n",
        "spell_serve = ['s','e','r','v','e']\n",
        "\n",
        "spell_reserve = spell_re + spell_serve\n",
        "print(spell_reserve)\n",
        "spell_reserve[:2] = ['o','b']\n",
        "print(spell_reserve)"
      ],
      "execution_count": null,
      "outputs": []
    },
    {
      "cell_type": "code",
      "metadata": {
        "id": "IHPtQUKo9r1a",
        "colab_type": "code",
        "colab": {}
      },
      "source": [
        "#[퀴즈 7-4]\n",
        "string = ['a', 'b', 'c', 'd', 'e', 'f']\n",
        "print(string[:3])\n",
        "print(string[2:5])\n",
        "print(string[1:3])"
      ],
      "execution_count": null,
      "outputs": []
    },
    {
      "cell_type": "markdown",
      "metadata": {
        "id": "4BaWS3eG-Jbj",
        "colab_type": "text"
      },
      "source": [
        "1. ['n','e','w','i','n','g']\n",
        "2. ['P','r','o','g','r','a','m','m']\n",
        "3. I love you. I am happy. \n",
        "4. 수정 in class"
      ]
    },
    {
      "cell_type": "code",
      "metadata": {
        "id": "IVGXr7uaz45Z",
        "colab_type": "code",
        "colab": {}
      },
      "source": [
        "#5\n",
        "list1=[1, 2, 3, 6, 7]\n",
        "if len(list1) == 6:\n",
        "    print('lotto')\n",
        "else:\n",
        "    print('X')\n",
        "\n",
        "#6\n",
        "word=['h','i','m','y','n','a','m','e','i','s']\n",
        "print(word[4:8])\n",
        "\n",
        "#7\n",
        "name = ['내','이','름','은','수','지','야']\n",
        "name[4:6] = ['민','수']\n",
        "print(name)\n",
        "\n",
        "#8\n",
        "winner=['박민아','정민호','김철수','이영희','손수정']\n",
        "print('정수지' in winner)\n",
        "print('김철수' in winner)\n",
        "print('박민아' in winner)\n",
        "print('전은진' in winner)"
      ],
      "execution_count": null,
      "outputs": []
    },
    {
      "cell_type": "code",
      "metadata": {
        "id": "jWtvfTy62Lve",
        "colab_type": "code",
        "colab": {}
      },
      "source": [
        "#9\n",
        "phone = []\n",
        "for _ in range(5):\n",
        "    my_num = input()\n",
        "    phone.append(my_num)\n",
        "print(phone)\n",
        "\n",
        "#10\n",
        "score = {'Peter': 100, 'John': 0, 'mina': 55, 'tim':75 }\n",
        "print(score['tim'])\n",
        "\n",
        "#11\n",
        "string = ['happy','dog','love','cat']\n",
        "num = [1,2,3,9,5,6]\n",
        "mix = [4,0,'hi',1,'x','sun']\n",
        "len(string)+len(num)+len(mix)\n",
        "\n",
        "#12\n",
        "str_b = ['boy','is']\n",
        "str_g = ['girl','is']\n",
        "str_bad = ['bad']\n",
        "str_good = ['good']\n",
        "print(str_b[1],str_b[0],str_bad[0])\n",
        "print(str_g[1],str_g[0],str_good[0])\n",
        "         \n",
        "#13\n",
        "spell = ['j','e','s','u','s']\n",
        "spell[2:5] = ['l','l','y']\n",
        "\n",
        "#14\n",
        "season = ['spring','summer','fall','winter']\n",
        "new = season * 2\n",
        "new[4:] = ['winter'] * 4\n",
        "print(new)"
      ],
      "execution_count": null,
      "outputs": []
    },
    {
      "cell_type": "code",
      "metadata": {
        "id": "beLm0AjL7ocQ",
        "colab_type": "code",
        "colab": {}
      },
      "source": [
        "#15\n",
        "word = ['I','like','you','he','her','hate','dog']\n",
        "print(word[0],word[1],word[4])\n",
        "\n",
        "#16\n",
        "week = ['9/15','9/16','9/17','9/18','9/19','9/20','9/21']\n",
        "print(week[0])\n",
        "print(week[6])\n",
        "\n",
        "#17\n",
        "find_word = ['t','e','c','h','n','o','l','o','g','y']\n",
        "word = [find_word[0]+find_word[1]+find_word[4]]\n",
        "print(word)\n",
        "\n",
        "#18\n",
        "ph = ['min','jin','kay','ken','ain']\n",
        "if jake in ph:\n",
        "    print(jake)\n",
        "if jin in ph:\n",
        "    print(jin)"
      ],
      "execution_count": null,
      "outputs": []
    },
    {
      "cell_type": "code",
      "metadata": {
        "id": "V4uusu1w87y8",
        "colab_type": "code",
        "colab": {}
      },
      "source": [
        "#19\n",
        "goodsay = ['happy','love','sad','hot','angry','fortunate']\n",
        "my_num = int(input())\n",
        "print(goodsay[my_num])\n",
        "\n",
        "#20\n",
        "team = ['민','경','상','철','지']\n",
        "if len(team) >= 3:\n",
        "    print('구성원은 최대 세명까지 입니다.')\n",
        "\n",
        "#21\n",
        "score = [90,75,30,100,85]\n",
        "avg = sum(score) / len(score)\n",
        "print(avg)\n",
        "\n",
        "#22\n",
        "piano = ['도','레','미','파','솔','라','시']\n",
        "print('1도 화음:',piano[0],piano[2],piano[4])\n",
        "print('4도 화음:',piano[3],piano[5],piano[0])\n",
        "print('5도 화음:',piano[4],piano[6],piano[1])\n",
        "school_bell = [piano[4],piano[4],piano[5],piano[5],piano[4],piano[4],piano[2]]\n",
        "print(school_bell)"
      ],
      "execution_count": null,
      "outputs": []
    }
  ]
}